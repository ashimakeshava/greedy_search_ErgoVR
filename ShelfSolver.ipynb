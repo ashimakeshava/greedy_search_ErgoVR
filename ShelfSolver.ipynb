{
 "cells": [
  {
   "cell_type": "code",
   "execution_count": 1,
   "metadata": {
    "ExecuteTime": {
     "end_time": "2020-11-30T20:24:35.036134Z",
     "start_time": "2020-11-30T20:24:34.533974Z"
    }
   },
   "outputs": [],
   "source": [
    "import importlib\n",
    "import matplotlib.pyplot as plt\n",
    "import numpy as np\n",
    "import pickle\n",
    "from multiprocessing import Pool, cpu_count"
   ]
  },
  {
   "cell_type": "code",
   "execution_count": 2,
   "metadata": {
    "ExecuteTime": {
     "end_time": "2020-11-30T20:24:35.099643Z",
     "start_time": "2020-11-30T20:24:35.040130Z"
    }
   },
   "outputs": [],
   "source": [
    "from utils.tree_search import Node, Queue, Stack, Tree\n",
    "import shelfsolver"
   ]
  },
  {
   "cell_type": "code",
   "execution_count": 3,
   "metadata": {
    "ExecuteTime": {
     "end_time": "2020-11-30T20:24:35.130332Z",
     "start_time": "2020-11-30T20:24:35.103943Z"
    }
   },
   "outputs": [
    {
     "data": {
      "text/plain": [
       "<module 'shelfsolver' from 'D:\\\\projects\\\\ErgoVR\\\\code\\\\shelf-solver-master\\\\shelfsolver.py'>"
      ]
     },
     "execution_count": 3,
     "metadata": {},
     "output_type": "execute_result"
    }
   ],
   "source": [
    "importlib.reload(shelfsolver)"
   ]
  },
  {
   "cell_type": "markdown",
   "metadata": {},
   "source": [
    "# Tasks"
   ]
  },
  {
   "cell_type": "markdown",
   "metadata": {},
   "source": [
    "1. Sort object so that each row has only objects of one color\n",
    "\n",
    "2a. Sort objects so that each row has all the unique colors and all the unique shapes once \n",
    "\n",
    "2b. Sort objects so that each column has all the unique colors and all the unique shapes once \n",
    "\n",
    "3a. Sort objects so that each row and column has each of the four colors once. ← this task can take longer and may have longer duration than preceding tasks \n",
    "\n",
    "3b. Sort objects so that each row and column has each of the four shapes once. ← this task can take longer and may have longer duration than preceding tasks "
   ]
  },
  {
   "cell_type": "markdown",
   "metadata": {},
   "source": [
    "## Task 1: One color per row"
   ]
  },
  {
   "cell_type": "markdown",
   "metadata": {},
   "source": [
    "### Solve single shelf"
   ]
  },
  {
   "cell_type": "code",
   "execution_count": 4,
   "metadata": {
    "ExecuteTime": {
     "end_time": "2020-11-30T20:24:35.145938Z",
     "start_time": "2020-11-30T20:24:35.133971Z"
    }
   },
   "outputs": [
    {
     "name": "stdout",
     "output_type": "stream",
     "text": [
      "[[11 24 41  0 34]\n",
      " [33 44 31  0  0]\n",
      " [43  0 13 32  0]\n",
      " [ 0 21 42 14 12]\n",
      " [ 0  0  0 23 22]]\n"
     ]
    }
   ],
   "source": [
    "solver = shelfsolver.ShelfSolver()\n",
    "shelf = shelfsolver.ShelfGenerator().new_random_shelf()\n",
    "print(shelf)"
   ]
  },
  {
   "cell_type": "code",
   "execution_count": 5,
   "metadata": {
    "ExecuteTime": {
     "end_time": "2020-11-30T20:24:35.192813Z",
     "start_time": "2020-11-30T20:24:35.148931Z"
    }
   },
   "outputs": [
    {
     "data": {
      "text/plain": [
       "(array([[ 0, 44, 41, 42, 43],\n",
       "        [33,  0, 31, 34, 32],\n",
       "        [ 0,  0,  0,  0,  0],\n",
       "        [ 0, 11, 13, 14, 12],\n",
       "        [ 0, 24, 21, 23, 22]]),\n",
       " 9)"
      ]
     },
     "execution_count": 5,
     "metadata": {},
     "output_type": "execute_result"
    }
   ],
   "source": [
    "result = solver.solve_task(shelf, task=1, verbose=1, search_type=\"stack\")\n",
    "result"
   ]
  },
  {
   "cell_type": "markdown",
   "metadata": {},
   "source": [
    "## Task 2: Every row should contain items of unique color and shape"
   ]
  },
  {
   "cell_type": "code",
   "execution_count": 6,
   "metadata": {
    "ExecuteTime": {
     "end_time": "2020-11-30T20:24:35.208790Z",
     "start_time": "2020-11-30T20:24:35.194807Z"
    }
   },
   "outputs": [
    {
     "name": "stdout",
     "output_type": "stream",
     "text": [
      "[[31  0 34 42 11]\n",
      " [ 0 21  0 33  0]\n",
      " [13  0 12  0 41]\n",
      " [43  0 14 22 23]\n",
      " [ 0  0 44 24 32]]\n"
     ]
    }
   ],
   "source": [
    "solver = shelfsolver.ShelfSolver()\n",
    "shelf = shelfsolver.ShelfGenerator().new_random_shelf()\n",
    "print(shelf)"
   ]
  },
  {
   "cell_type": "code",
   "execution_count": 7,
   "metadata": {
    "ExecuteTime": {
     "end_time": "2020-11-30T20:24:35.727472Z",
     "start_time": "2020-11-30T20:24:35.210765Z"
    }
   },
   "outputs": [
    {
     "name": "stdout",
     "output_type": "stream",
     "text": [
      "Current score: 42 | Depth: 6 | Length of tree: 29\n",
      "Solution found!\n"
     ]
    },
    {
     "data": {
      "text/plain": [
       "(array([[ 0, 23, 34, 42, 11],\n",
       "        [ 0,  0,  0,  0,  0],\n",
       "        [33, 24, 12,  0, 41],\n",
       "        [43, 31, 14, 22,  0],\n",
       "        [13, 21, 44,  0, 32]]),\n",
       " 7)"
      ]
     },
     "execution_count": 7,
     "metadata": {},
     "output_type": "execute_result"
    }
   ],
   "source": [
    "result = solver.solve_task(shelf, task=2, verbose=1, search_type=\"stack\", collect=False)\n",
    "result"
   ]
  },
  {
   "cell_type": "markdown",
   "metadata": {},
   "source": [
    "## Task 3: Each row and each column has each of the four colors once."
   ]
  },
  {
   "cell_type": "code",
   "execution_count": 8,
   "metadata": {
    "ExecuteTime": {
     "end_time": "2020-11-30T20:24:35.743430Z",
     "start_time": "2020-11-30T20:24:35.731463Z"
    }
   },
   "outputs": [
    {
     "name": "stdout",
     "output_type": "stream",
     "text": [
      "[[31 32 14 33 24]\n",
      " [ 0 44 13 23  0]\n",
      " [ 0 41  0  0  0]\n",
      " [34 21  0 42 11]\n",
      " [22 43 12  0  0]]\n"
     ]
    }
   ],
   "source": [
    "solver = shelfsolver.ShelfSolver()\n",
    "shelf = shelfsolver.ShelfGenerator().new_random_shelf()\n",
    "print(shelf)"
   ]
  },
  {
   "cell_type": "code",
   "execution_count": 9,
   "metadata": {
    "ExecuteTime": {
     "end_time": "2020-11-30T20:24:54.975135Z",
     "start_time": "2020-11-30T20:24:35.747419Z"
    }
   },
   "outputs": [
    {
     "name": "stdout",
     "output_type": "stream",
     "text": [
      "Current score: 51 | Depth: 16 | Length of tree: 109\n",
      "Solution found!\n"
     ]
    },
    {
     "data": {
      "text/plain": [
       "(array([[31, 44, 13,  0, 24],\n",
       "        [21, 14, 33,  0, 41],\n",
       "        [12, 23, 43,  0, 34],\n",
       "        [42, 32, 22,  0, 11],\n",
       "        [ 0,  0,  0,  0,  0]]),\n",
       " 17)"
      ]
     },
     "execution_count": 9,
     "metadata": {},
     "output_type": "execute_result"
    }
   ],
   "source": [
    "result = solver.solve_task(shelf, task=3, verbose=1, search_type=\"stack\", collect=False)\n",
    "result"
   ]
  }
 ],
 "metadata": {
  "kernelspec": {
   "display_name": "Python 3",
   "language": "python",
   "name": "python3"
  },
  "language_info": {
   "codemirror_mode": {
    "name": "ipython",
    "version": 3
   },
   "file_extension": ".py",
   "mimetype": "text/x-python",
   "name": "python",
   "nbconvert_exporter": "python",
   "pygments_lexer": "ipython3",
   "version": "3.7.4"
  },
  "toc": {
   "base_numbering": 1,
   "nav_menu": {},
   "number_sections": true,
   "sideBar": true,
   "skip_h1_title": false,
   "title_cell": "Table of Contents",
   "title_sidebar": "Contents",
   "toc_cell": false,
   "toc_position": {},
   "toc_section_display": true,
   "toc_window_display": false
  },
  "varInspector": {
   "cols": {
    "lenName": 16,
    "lenType": 16,
    "lenVar": 40
   },
   "kernels_config": {
    "python": {
     "delete_cmd_postfix": "",
     "delete_cmd_prefix": "del ",
     "library": "var_list.py",
     "varRefreshCmd": "print(var_dic_list())"
    },
    "r": {
     "delete_cmd_postfix": ") ",
     "delete_cmd_prefix": "rm(",
     "library": "var_list.r",
     "varRefreshCmd": "cat(var_dic_list()) "
    }
   },
   "types_to_exclude": [
    "module",
    "function",
    "builtin_function_or_method",
    "instance",
    "_Feature"
   ],
   "window_display": false
  }
 },
 "nbformat": 4,
 "nbformat_minor": 4
}
